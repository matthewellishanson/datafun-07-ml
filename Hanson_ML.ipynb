{
 "cells": [
  {
   "cell_type": "code",
   "execution_count": 1,
   "id": "2a710848-1a8c-4ef8-8df7-3722d1a952fe",
   "metadata": {},
   "outputs": [],
   "source": [
    "import pandas as pd\n",
    "import numpy as np\n",
    "import scipy\n",
    "import matplotlib.pyplot as plt\n",
    "import seaborn as sns\n",
    "import pyarrow"
   ]
  },
  {
   "cell_type": "markdown",
   "id": "693d61fc-0739-4f25-ae93-2e1c2d972e6c",
   "metadata": {},
   "source": [
    "## Machine Learning - Data Fundamentals Final Project\n",
    "---\n",
    "#### By Matt Hanson \n",
    "\n",
    "\n",
    "[Follow along on Github](https://github.com/matthewellishanson/datafun-07-ml)\n"
   ]
  },
  {
   "cell_type": "code",
   "execution_count": null,
   "id": "97e3b7f8-72c0-49f9-87d5-a59a67e23a8f",
   "metadata": {},
   "outputs": [],
   "source": []
  }
 ],
 "metadata": {
  "kernelspec": {
   "display_name": "Python 3 (ipykernel)",
   "language": "python",
   "name": "python3"
  },
  "language_info": {
   "codemirror_mode": {
    "name": "ipython",
    "version": 3
   },
   "file_extension": ".py",
   "mimetype": "text/x-python",
   "name": "python",
   "nbconvert_exporter": "python",
   "pygments_lexer": "ipython3",
   "version": "3.12.2"
  }
 },
 "nbformat": 4,
 "nbformat_minor": 5
}
